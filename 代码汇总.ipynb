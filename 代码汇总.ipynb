{
 "cells": [
  {
   "cell_type": "code",
   "execution_count": null,
   "metadata": {},
   "outputs": [],
   "source": [
    "import warnings\n",
    "import seaborn as sns\n",
    "import matplotlib.pyplot as plt\n",
    "from pandas.core.frame import DataFrame\n",
    "import pandas as pd\n",
    "import numpy as np\n",
    "import xlrd\n",
    "%matplotlib inline\n",
    "warnings.filterwarnings(\"ignore\")\n",
    "sns.set()\n",
    "plt.rcParams['font.sans-serif'] = ['SimHei']\n",
    "plt.rcParams['axes.unicode_minus'] = False"
   ]
  },
  {
   "cell_type": "code",
   "execution_count": null,
   "metadata": {},
   "outputs": [],
   "source": [
    "# 空气质量分指数级别与浓度对应表\n",
    "df_level = pd.read_excel('空气质量分指数级别.xlsx')"
   ]
  },
  {
   "cell_type": "code",
   "execution_count": null,
   "metadata": {},
   "outputs": [],
   "source": [
    "# IAQI计算\n",
    "def IAQI(C_p, column):\n",
    "    df_IAQI = df_level['IAQI']\n",
    "    df_max = max(df_level[column])\n",
    "\n",
    "    if column != 'O3':\n",
    "        for i in range(len(df_level[column])):\n",
    "            if i > 0:\n",
    "                j = i - 1\n",
    "            else:\n",
    "                j = i\n",
    "            if C_p == df_level.loc[i, column]:\n",
    "                IAQI = df_IAQI[i]\n",
    "            elif C_p > df_level.loc[j, column] and C_p < df_level.loc[i, column]:\n",
    "                IAQI_Hi = df_IAQI[i]\n",
    "                IAQI_Lo = df_IAQI[j]\n",
    "                BP_Hi = df_level.loc[i, column]\n",
    "                BP_Lo = df_level.loc[j, column]\n",
    "                IAQI = ((IAQI_Hi - IAQI_Lo)*(C_p - BP_Lo)) / (BP_Hi - BP_Lo) + IAQI_Lo\n",
    "            else:\n",
    "                if C_p == df_max:\n",
    "                    IAQI = 500\n",
    "                else:\n",
    "                    continue\n",
    "    else:\n",
    "        for i in range(0, 6):\n",
    "            if i > 0:\n",
    "                j = i - 1\n",
    "            else:\n",
    "                j = i\n",
    "            if C_p == df_level.loc[i, column]:\n",
    "                IAQI = df_IAQI[i]\n",
    "            elif C_p > df_level.loc[j, column] and C_p < df_level.loc[i, column]:\n",
    "                IAQI_Hi = df_IAQI[i]\n",
    "                IAQI_Lo = df_IAQI[j]\n",
    "                BP_Hi = df_level.loc[i, column]\n",
    "                BP_Lo = df_level.loc[j, column]\n",
    "                IAQI = ((IAQI_Hi - IAQI_Lo)*(C_p - BP_Lo)) / (BP_Hi - BP_Lo) + IAQI_Lo\n",
    "            else:\n",
    "                if C_p == df_max:\n",
    "                    IAQI = 300\n",
    "                else:\n",
    "                    continue\n",
    "    return IAQI"
   ]
  },
  {
   "cell_type": "code",
   "execution_count": null,
   "metadata": {},
   "outputs": [],
   "source": [
    "# O3最大8小时平均浓度计算\n",
    "def C_O3(df_question1_hour_O3,n):\n",
    "    C_O3 = []\n",
    "    for b in [df_question1_hour_O3[i:i + n] for i in range(0, len(df_question1_hour_O3), n)]:\n",
    "        df_question1_hour_O3_everyday = b\n",
    "        c_t = []\n",
    "        for t in range(8,25):\n",
    "            i = t - 8\n",
    "            c_i = []\n",
    "            for i in range(i,t):\n",
    "                c_i_8h = df_question1_hour_O3_everyday[i]\n",
    "                c_i.append(c_i_8h)\n",
    "            c_t_8h = 1/8*sum(c_i)\n",
    "            c_t.append(c_t_8h)\n",
    "\n",
    "        C_O3_day = max(c_t)\n",
    "        C_O3.append(C_O3_day)\n",
    "        \n",
    "    return C_O3"
   ]
  },
  {
   "cell_type": "code",
   "execution_count": null,
   "metadata": {},
   "outputs": [],
   "source": [
    "# 直接根据日实测值计算日AQI\n",
    "def AQI_day(data):\n",
    "    columns=['SO2','NO2','PM10','PM2.5','O3','CO']\n",
    "    AQI = []\n",
    "    for i in range(len(data)):\n",
    "        IAQI_p = []\n",
    "        for column in columns:\n",
    "            C_p = data[column][i]\n",
    "            df_icolumn = IAQI(C_p,column)\n",
    "            IAQI_p.append(df_icolumn)\n",
    "        IAQI_p_max = max(IAQI_p)\n",
    "        AQI.append(IAQI_p_max)\n",
    "\n",
    "    return AQI"
   ]
  },
  {
   "cell_type": "code",
   "execution_count": null,
   "metadata": {},
   "outputs": [],
   "source": [
    "# 根据小时实测值计算日实测值\n",
    "def data_hour_day(data,n):\n",
    "    # 数据准备\n",
    "    data['监测时间'] = pd.to_datetime(data['监测时间'])\n",
    "    data = data.set_index(['监测时间'], drop=True)\n",
    "    df_hour_O3 = data['O3'].copy()\n",
    "    data.drop(columns=['地点','O3'],inplace=True)\n",
    "    \n",
    "    # 计算日均值\n",
    "    df_hour_to_day = data.resample('D').mean()\n",
    "    \n",
    "    # 计算O3日值\n",
    "    df_hour_O3 = df_hour_O3\n",
    "    O3_C = C_O3(df_hour_O3,n)\n",
    "    df_hour_to_day.insert(5,'O3',O3_C)\n",
    "    df_hour_to_day['地点'] = '监测点A'\n",
    "    \n",
    "    return df_hour_to_day"
   ]
  },
  {
   "cell_type": "markdown",
   "metadata": {},
   "source": [
    "# Question 1"
   ]
  },
  {
   "cell_type": "code",
   "execution_count": null,
   "metadata": {},
   "outputs": [],
   "source": [
    "# 日实测值计算AQI\n",
    "df_question1_day = pd.read_excel('问题1.xlsx',sheet_name='日实测值')\n",
    "df_question1_day.rename(columns={'SO2监测浓度(μg/m³)': 'SO2', 'NO2监测浓度(μg/m³)': 'NO2', 'PM10监测浓度(μg/m³)': 'PM10',\n",
    "                                 'PM2.5监测浓度(μg/m³)': 'PM2.5', 'O3最大八小时滑动平均监测浓度(μg/m³)': 'O3', 'CO监测浓度(mg/m³)': 'CO'}, inplace=True)\n",
    "dayDataAQI = AQI_day(df_question1_day)\n",
    "print(dayDataAQI)\n",
    ">>>[60.0, 46.0, 108.18181818181819, 137.27272727272728]"
   ]
  },
  {
   "cell_type": "code",
   "execution_count": null,
   "metadata": {},
   "outputs": [],
   "source": [
    "# 小时实测值计算AQI\n",
    "df_question1_hour = pd.read_excel('问题1.xlsx',sheet_name='小时实测值')\n",
    "df_question1_hour.rename(columns={'SO2监测浓度(μg/m³)': 'SO2', 'NO2监测浓度(μg/m³)': 'NO2', 'PM10监测浓度(μg/m³)': 'PM10',\n",
    "                                 'PM2.5监测浓度(μg/m³)': 'PM2.5', 'O3监测浓度(μg/m³)': 'O3', 'CO监测浓度(mg/m³)': 'CO'}, inplace=True)\n",
    "data_day_hour = df_question1_hour\n",
    "n = 24\n",
    "df_hour_to_day = data_hour_day(data_day_hour,n)\n",
    "df_hour_to_day.drop(columns=['地点'],axis=1,inplace=True)\n",
    "df_hour_to_day= df_hour_to_day.astype('int')\n",
    "hourDataAQI = AQI_day(df_hour_to_day)\n",
    "print(hourDataAQI)\n",
    ">>>[60.0, 46.0, 108.18181818181819, 136.36363636363637]"
   ]
  },
  {
   "cell_type": "markdown",
   "metadata": {},
   "source": [
    "# Question 2"
   ]
  },
  {
   "cell_type": "markdown",
   "metadata": {},
   "source": [
    "数据补全"
   ]
  },
  {
   "cell_type": "code",
   "execution_count": null,
   "metadata": {},
   "outputs": [],
   "source": [
    "from sklearn.impute import KNNImputer\n",
    "from sklearn.ensemble import RandomForestRegressor"
   ]
  },
  {
   "cell_type": "code",
   "execution_count": null,
   "metadata": {},
   "outputs": [],
   "source": [
    "df = pd.read_excel('附件1 监测点A空气质量预报基础数据.xlsx',sheet_name='监测点A逐小时污染物浓度与气象实测数据')"
   ]
  },
  {
   "cell_type": "code",
   "execution_count": null,
   "metadata": {},
   "outputs": [],
   "source": [
    "df_time = df['监测时间'].copy()\n",
    "\n",
    "df['监测时间'] = pd.to_datetime(df['监测时间'])\n",
    "df = df.set_index(['监测时间'], drop=True)\n",
    "\n",
    "df.drop(columns=['地点'],inplace=True)\n",
    "\n",
    "columns = df.columns\n",
    "for column in columns:\n",
    "    miss_rate = np.sum(df[column].isnull())/len(df[column])\n",
    "    print(\"missing rate of column %s is %f\" %(column,miss_rate))"
   ]
  },
  {
   "cell_type": "code",
   "execution_count": null,
   "metadata": {},
   "outputs": [],
   "source": [
    "columns = df.columns\n",
    "m = '—'\n",
    "for column in columns:\n",
    "    df[column][df[column] == m] = None\n",
    "    df[column] = df[column].astype('float')\n",
    "    df[column][df[column] == 0] = None\n",
    "    df[column][df[column] < 0] = None\n",
    "    miss_rate = np.sum(df[column].isnull())/len(df[column])\n",
    "    print(\"missing rate of column %s is %f\" %(column,miss_rate))"
   ]
  },
  {
   "cell_type": "code",
   "execution_count": null,
   "metadata": {},
   "outputs": [],
   "source": [
    "print(df.isnull().sum())"
   ]
  },
  {
   "cell_type": "code",
   "execution_count": null,
   "metadata": {},
   "outputs": [],
   "source": [
    "df_copy = df.copy()\n",
    "df_copy.drop(columns = ['O3监测浓度(μg/m³)'],inplace = True) "
   ]
  },
  {
   "cell_type": "code",
   "execution_count": null,
   "metadata": {},
   "outputs": [],
   "source": [
    "## 定义KNN\n",
    "def knn_mean(ts, n):\n",
    "    out = np.copy(ts)\n",
    "    for i, val in enumerate(ts):\n",
    "        if np.isnan(val):\n",
    "            n_by_2 = np.ceil(n/2)\n",
    "            lower = np.max([0, int(i-n_by_2)])\n",
    "            upper = np.min([len(ts)+1, int(i+n_by_2)])\n",
    "            ts_near = np.concatenate([ts[lower:i], ts[i:upper]])\n",
    "            out[i] = np.nanmean(ts_near)\n",
    "    return out"
   ]
  },
  {
   "cell_type": "code",
   "execution_count": null,
   "metadata": {},
   "outputs": [],
   "source": [
    "# 污染物浓度补全（除O3）\n",
    "columns = df_copy.columns\n",
    "for column in columns:\n",
    "    df_copy[column] = knn_mean(df_copy[column], 12)\n",
    "    miss_rate = np.sum(df_copy[column].isnull())/len(df_copy[column])\n",
    "    print(\"missing rate of column %s is %f\" %(column,miss_rate))"
   ]
  },
  {
   "cell_type": "code",
   "execution_count": null,
   "metadata": {},
   "outputs": [],
   "source": [
    "# O3补全\n",
    "df_copy_fill = df_copy.copy()\n",
    "df_copy_fill.insert(0,'O3监测浓度(μg/m³)',df_copy_O3) \n",
    "# 取出不为空的全部样本进行训练\n",
    "known = df_copy_fill[df_copy_fill['O3监测浓度(μg/m³)'].notnull()]\n",
    "print(known.shape) \n",
    "# 取出为空的样本用于填充空值\n",
    "unknown = df_copy_fill[df_copy_fill['O3监测浓度(μg/m³)'].isnull()]\n",
    "print(unknown.shape) #2078, 54\n",
    "\n",
    "# 取填充列\n",
    "y = known.iloc[:, 0]\n",
    "y = np.array(y)\n",
    "# 取除了填充列的其他列\n",
    "X = known.iloc[:, 1:]\n",
    "X = np.array(X)\n",
    "\n",
    "rfr = RandomForestRegressor(random_state=666, n_estimators=2000, n_jobs=-1)\n",
    "rfr.fit(X, y)\n",
    "\n",
    "df_copy_fill.loc[(df_copy_fill['O3监测浓度(μg/m³)'].isnull()), 'O3监测浓度(μg/m³)'] = rfr.predict(unknown.iloc[:, 1:])\n",
    "df_copy_fill"
   ]
  },
  {
   "cell_type": "code",
   "execution_count": null,
   "metadata": {},
   "outputs": [],
   "source": [
    "columns = df_copy_fill.columns\n",
    "for column in columns:\n",
    "    miss_rate = np.sum(df_copy_fill[column].isnull())/len(df_copy_fill[column])\n",
    "    print(\"missing rate of column %s is %f\" %(column,miss_rate))"
   ]
  },
  {
   "cell_type": "code",
   "execution_count": null,
   "metadata": {},
   "outputs": [],
   "source": [
    "df_copy_fill.to_excel('附件1_监测点A小时实测值.xlsx')"
   ]
  },
  {
   "cell_type": "markdown",
   "metadata": {},
   "source": [
    "### 滞后性分析"
   ]
  },
  {
   "cell_type": "code",
   "execution_count": null,
   "metadata": {},
   "outputs": [],
   "source": [
    "df = pd.read_excel('附件1_监测点A小时实测值.xlsx')"
   ]
  },
  {
   "cell_type": "code",
   "execution_count": null,
   "metadata": {},
   "outputs": [],
   "source": [
    "# 标准化数据\n",
    "from sklearn import preprocessing\n",
    "\n",
    "values = df.values #dataframe转换为array\n",
    "\n",
    "standard_data = preprocessing.scale(values) \n",
    "standard_data = pd.DataFrame(standard_data) #将array还原为dataframe\n",
    "\n",
    "standard_data.columns=df.columns #命名标题行"
   ]
  },
  {
   "cell_type": "code",
   "execution_count": null,
   "metadata": {},
   "outputs": [],
   "source": [
    "# 差分\n",
    "diff_truedata = df.diff()\n",
    "\n",
    "diff_truedata.drop(columns=['风向(°)'],axis=1,inplace=True)\n",
    "diff_truedata.drop([0],axis = 0,inplace = True)"
   ]
  },
  {
   "cell_type": "code",
   "execution_count": null,
   "metadata": {},
   "outputs": [],
   "source": [
    "# 多元回归判断滞后阶数\n",
    "import statsmodels.api as sm"
   ]
  },
  {
   "cell_type": "code",
   "execution_count": null,
   "metadata": {},
   "outputs": [],
   "source": [
    "from sklearn import preprocessing\n",
    "\n",
    "values = diff_truedata.values #dataframe转换为array\n",
    "\n",
    "diff_standard_data = preprocessing.scale(values) \n",
    "diff_standard_data = pd.DataFrame(diff_standard_data) #将array还原为dataframe\n",
    "\n",
    "diff_standard_data.columns=diff_truedata.columns #命名标题行"
   ]
  },
  {
   "cell_type": "code",
   "execution_count": null,
   "metadata": {},
   "outputs": [],
   "source": [
    "X_diff = pd.concat([diff_standard_data['温度(℃)'],diff_standard_data['湿度(%)'],diff_standard_data['气压(MBar)'],diff_standard_data['风速(m/s)']],axis = 1)\n",
    "\n",
    "x_diff = X_diff \n",
    "y_diff = diff_standard_data['O3监测浓度(μg/m³)'] \n",
    "model = sm.OLS(y_diff, x_diff) \n",
    "result = model.fit() \n",
    "result.summary()"
   ]
  },
  {
   "cell_type": "code",
   "execution_count": null,
   "metadata": {},
   "outputs": [],
   "source": [
    "# 测试不同滞后阶数下气象条件对各污染物的影响\n",
    "columns = ['SO2监测浓度(μg/m³)', 'NO2监测浓度(μg/m³)', 'PM10监测浓度(μg/m³)', 'PM2.5监测浓度(μg/m³)', 'O3监测浓度(μg/m³)', 'CO监测浓度(mg/m³)']\n",
    "\n",
    "mse_matrix = []\n",
    "mse_matrix = pd.DataFrame(lag_mse_matrix)\n",
    "\n",
    "for column in columns:\n",
    "    lag_mse_matrix = []\n",
    "\n",
    "    for lag_step in range(1, 101):\n",
    "\n",
    "        diff_truedata_copy = diff_standard_data.copy()\n",
    "        lag_AQI = diff_standard_data[column].values\n",
    "\n",
    "        lag_huaf = []\n",
    "        for i in range(lag_step):\n",
    "            a = np.nan\n",
    "            lag_huaf.append(a)\n",
    "\n",
    "        lag_huaf = DataFrame(lag_huaf)\n",
    "        lag_AQI = DataFrame(lag_AQI)\n",
    "        lag_lag_step = lag_AQI.iloc[:-lag_step, :]\n",
    "        lag_lag_step = DataFrame(lag_lag_step)\n",
    "        lag_lag_step_final = pd.concat([lag_huaf, lag_lag_step], axis=0)\n",
    "        lag_lag_step_final = lag_lag_step_final.reset_index(drop=True)\n",
    "\n",
    "        diff_truedata_copy.insert(0, '滞后小时数', lag_lag_step_final)\n",
    "\n",
    "        diff_truedata_copy = diff_truedata_copy[~(\n",
    "            diff_truedata_copy['滞后小时数'].isnull())]\n",
    "\n",
    "        X_diff = pd.concat([diff_truedata_copy['温度(℃)'], diff_truedata_copy['湿度(%)'],\n",
    "                            diff_truedata_copy['气压(MBar)'], diff_truedata_copy['风速(m/s)']], axis=1)\n",
    "\n",
    "        x_diff = X_diff\n",
    "        y_diff = diff_truedata_copy['滞后小时数']\n",
    "        model = sm.OLS(y_diff, x_diff)\n",
    "        result = model.fit()\n",
    "\n",
    "        current_mse = result.mse_model\n",
    "\n",
    "        lag_mse_matrix.append(current_mse)\n",
    "    \n",
    "    mas_matrix[cloumn] = lag_mse_matrix"
   ]
  },
  {
   "cell_type": "code",
   "execution_count": null,
   "metadata": {},
   "outputs": [],
   "source": [
    "mas_matrix = pd.DataFrame(mas_matrix)\n",
    "\n",
    "df_lag_cor_matrix_O3 = mas_matrix.iloc[0:100]\n",
    "df_lag_cor_matrix_SO2 = mas_matrix.iloc[100:200]\n",
    "df_lag_cor_matrix_NO2 = mas_matrix.iloc[200:300]\n",
    "df_lag_cor_matrix_PM10 = mas_matrix.iloc[300:400]\n",
    "df_lag_cor_matrix_PM25 = mas_matrix.iloc[400:500]\n",
    "df_lag_cor_matrix_CO = mas_matrix.iloc[500:600]"
   ]
  },
  {
   "cell_type": "code",
   "execution_count": null,
   "metadata": {},
   "outputs": [],
   "source": [
    "plt.figure(figsize=(12,9),dpi=80) \n",
    "plt.plot(df_lag_cor_matrix_O3,label = 'O3',color='r')\n",
    "plt.plot(df_lag_cor_matrix_SO2,label = 'SO2', color='orange')\n",
    "plt.plot(df_lag_cor_matrix_NO2,label = 'NO2', color='purple')\n",
    "plt.plot(df_lag_cor_matrix_PM10,label = 'PM10', color='g')\n",
    "plt.plot(df_lag_cor_matrix_PM25,label = 'PM2.5', color='y')\n",
    "plt.plot(df_lag_cor_matrix_CO,label = 'CO', color='b')\n",
    "plt.legend(loc='best') #upper/lower left/right\n",
    "plt.title(\"气象条件对污染物浓度的滞后影响误差\") \n",
    "plt.xlabel('滞后步数')\n",
    "plt.ylabel('模型MSE')\n",
    "plt.show() "
   ]
  },
  {
   "cell_type": "markdown",
   "metadata": {},
   "source": [
    "根据构造特征和实测数据特征进行聚类"
   ]
  },
  {
   "cell_type": "code",
   "execution_count": null,
   "metadata": {},
   "outputs": [],
   "source": [
    "df = pd.read_excel('新特征构造_监测点A小时实测值.xlsx')"
   ]
  },
  {
   "cell_type": "code",
   "execution_count": null,
   "metadata": {},
   "outputs": [],
   "source": [
    "df.drop(columns=['监测时间'],axis=1,inplace=True)\n",
    "train = np.array(df)\n",
    "from sklearn.cluster import KMeans\n",
    "from sklearn import preprocessing\n",
    "\n",
    "kmeans = KMeans(n_clusters=3, random_state=None, algorithm='auto')\n",
    "#min_max_scaler = preprocessing.MinMaxScaler()\n",
    "#train_x = min_max_scaler.fit_transform(train)\n",
    "kmeans.fit(train)\n",
    "\n",
    "# 输出及聚类后的每个样本点的标签（即类别），预测新的样本点所属类别\n",
    "print(kmeans.labels_)"
   ]
  },
  {
   "cell_type": "code",
   "execution_count": null,
   "metadata": {},
   "outputs": [],
   "source": [
    "cluster = kmeans.labels_\n",
    "train = DataFrame(train)\n",
    "train.columns  = df.columns\n",
    "train.insert(0,'cluster',cluster)"
   ]
  },
  {
   "cell_type": "code",
   "execution_count": null,
   "metadata": {},
   "outputs": [],
   "source": [
    "train['cluster'].value_counts()"
   ]
  },
  {
   "cell_type": "code",
   "execution_count": null,
   "metadata": {},
   "outputs": [],
   "source": [
    "kmeans_cluster_centers = kmeans.cluster_centers_\n",
    "kmeans_cluster_centers = DataFrame(kmeans_cluster_centers)\n",
    "kmeans_cluster_centers.columns = df.columns"
   ]
  },
  {
   "cell_type": "code",
   "execution_count": null,
   "metadata": {},
   "outputs": [],
   "source": [
    "kmeans_cluster_centers.to_excel('聚类中心_kmeans_3类.xlsx')\n",
    "train.to_excel('聚类结果_kmeans_3类.xlsx')"
   ]
  },
  {
   "cell_type": "code",
   "execution_count": null,
   "metadata": {},
   "outputs": [],
   "source": [
    "cluster_result = pd.read_excel('聚类结果_kmeans_3类_可视化.xlsx')\n",
    "columns = cluster_result.columns\n",
    "for column in columns:\n",
    "    miss_rate = np.sum(cluster_result[column].isnull())/len(cluster_result[column])\n",
    "    print(\"missing rate of column %s is %f\" %(column,miss_rate))"
   ]
  },
  {
   "cell_type": "code",
   "execution_count": null,
   "metadata": {},
   "outputs": [],
   "source": [
    "cluster_result=cluster_result[~(cluster_result['old湿度(%)'].isnull())]"
   ]
  },
  {
   "cell_type": "code",
   "execution_count": null,
   "metadata": {},
   "outputs": [],
   "source": [
    " #进行数据降维  从而可视化\n",
    "from sklearn.manifold import TSNE\n",
    "\n",
    "tsne = TSNE()\n",
    "m = tsne.fit_transform(cluster_result)\n",
    "m = pd.DataFrame(m)\n",
    "m.columns = ['特征1','特征2']"
   ]
  },
  {
   "cell_type": "code",
   "execution_count": null,
   "metadata": {},
   "outputs": [],
   "source": [
    "df_cluster_result = cluster_result['cluster'].copy()\n",
    "df_cluster_result = pd.DataFrame(df_cluster_result)"
   ]
  },
  {
   "cell_type": "code",
   "execution_count": null,
   "metadata": {},
   "outputs": [],
   "source": [
    "m.insert(0,'cluster',df_cluster_result) "
   ]
  },
  {
   "cell_type": "code",
   "execution_count": null,
   "metadata": {},
   "outputs": [],
   "source": [
    "# 聚类结果可视化\n",
    "import matplotlib.pyplot as plt\n",
    "plt.rcParams['axes.unicode_minus'] = False #用来正常显示负号\n",
    "\n",
    "plt.figure(figsize=(16,12),dpi=120)\n",
    "#不同类别用不同颜色和样式绘图\n",
    "d = m[m['cluster'] == 0]\n",
    "plt.scatter(d['特征1'], d['特征2'], color = 'r',label = '聚类1',marker='.')\n",
    "d = m[m['cluster'] == 1]\n",
    "plt.scatter(d['特征1'], d['特征2'], color = 'g',label = '聚类2',marker='o')\n",
    "d = m[m['cluster'] == 2]\n",
    "plt.scatter(d['特征1'], d['特征2'], color = 'blue',label = '聚类3',marker='*')\n",
    "\n",
    "plt.title('聚类结果降维')\n",
    "plt.xlabel('降维特征1')\n",
    "plt.ylabel('降维特征2')\n",
    "plt.legend()\n",
    "\n",
    "plt.show()"
   ]
  },
  {
   "cell_type": "code",
   "execution_count": null,
   "metadata": {},
   "outputs": [],
   "source": [
    "# 聚类结果 特征可视化\n",
    "columns = ['SO2监测浓度(μg/m³)', 'NO2监测浓度(μg/m³)', 'PM10监测浓度(μg/m³)',\n",
    "           'PM2.5监测浓度(μg/m³)', 'O3监测浓度(μg/m³)', 'CO监测浓度(mg/m³)']\n",
    "for column in columns:\n",
    "    var = 'cluster'\n",
    "    boxdata = pd.concat([cluster_result[column], cluster_result[var]], axis=1)\n",
    "    f, ax = plt.subplots(figsize=(8, 6))\n",
    "    fig = sns.boxplot(x=var, y=column, data=boxdata)\n",
    "    fig.axis()"
   ]
  },
  {
   "cell_type": "markdown",
   "metadata": {},
   "source": [
    "# Question 3"
   ]
  },
  {
   "cell_type": "code",
   "execution_count": null,
   "metadata": {},
   "outputs": [],
   "source": [
    "# 数据清洗与填充，代码同附件1中监测点A实测小时预处理方法\n",
    "# 构造65小时前时间间隔的新时间特征列“近3天实测时间”\n",
    "# 下面以监测点C的数据为例"
   ]
  },
  {
   "cell_type": "code",
   "execution_count": null,
   "metadata": {},
   "outputs": [],
   "source": [
    "df1 = pd.read_excel('监测点C_一次预报.xlsx')\n",
    "df2 = pd.read_excel('附件2_监测点C小时实测值.xlsx')"
   ]
  },
  {
   "cell_type": "code",
   "execution_count": null,
   "metadata": {},
   "outputs": [],
   "source": [
    "df2.rename(columns={'监测时间': '近3天实测时间'}, inplace=True)"
   ]
  },
  {
   "cell_type": "code",
   "execution_count": null,
   "metadata": {},
   "outputs": [],
   "source": [
    "merge1= pd.merge(df1,df2,on='近3天实测时间',how = 'left')"
   ]
  },
  {
   "cell_type": "code",
   "execution_count": null,
   "metadata": {},
   "outputs": [],
   "source": [
    "df3 = df2.copy()\n",
    "df3.drop(columns=['温度(℃)','湿度(%)','大气压(mBar)','风速(m/s)','风向(°)'],axis=1,inplace = True)\n",
    "df3.rename(columns={'近3天实测时间': '预测时间', 'O3监测浓度(μg/m³)': 'true O3', 'SO2监测浓度(μg/m³)': 'true SO2',\n",
    "                    'NO2监测浓度(μg/m³)': 'true NO2', 'PM10监测浓度(μg/m³)': 'true PM10', \n",
    "                    'PM2.5监测浓度(μg/m³)': 'true PM2.5', 'CO监测浓度(mg/m³)': 'true CO'}, inplace=True)"
   ]
  },
  {
   "cell_type": "code",
   "execution_count": null,
   "metadata": {},
   "outputs": [],
   "source": [
    "merge2= pd.merge(merge1,df3,on='预测时间',how = 'left')"
   ]
  },
  {
   "cell_type": "code",
   "execution_count": null,
   "metadata": {},
   "outputs": [],
   "source": [
    "merge2.to_excel('监测点C问题3数据.xlsx',index=False)"
   ]
  },
  {
   "cell_type": "markdown",
   "metadata": {},
   "source": [
    "随机森林"
   ]
  },
  {
   "cell_type": "code",
   "execution_count": null,
   "metadata": {},
   "outputs": [],
   "source": [
    "import sklearn.datasets as datasets\n",
    "import pandas as pd\n",
    "from sklearn.model_selection import train_test_split\n",
    "from sklearn.preprocessing import StandardScaler\n",
    "from sklearn.pipeline import Pipeline\n",
    "from sklearn.ensemble import RandomForestRegressor\n",
    "from sklearn.decomposition import PCA"
   ]
  },
  {
   "cell_type": "code",
   "execution_count": null,
   "metadata": {},
   "outputs": [],
   "source": [
    "dataset = pd.read_excel('监测点A问题3数据.xlsx')\n",
    "dataset=dataset[~(dataset['NO2监测浓度(μg/m³)'].isnull())]"
   ]
  },
  {
   "cell_type": "code",
   "execution_count": null,
   "metadata": {},
   "outputs": [],
   "source": [
    "dataset_validition = dataset[-216:]\n",
    "dataset_train = dataset[:-216]"
   ]
  },
  {
   "cell_type": "code",
   "execution_count": null,
   "metadata": {},
   "outputs": [],
   "source": [
    "dataset_train=dataset_train[~(dataset_train['true O3'].isnull())]"
   ]
  },
  {
   "cell_type": "code",
   "execution_count": null,
   "metadata": {},
   "outputs": [],
   "source": [
    "dataset_train.drop(columns=['地点','模型运行日期','预测时间','近3天实测时间'],axis=1,inplace = True)\n",
    "\n",
    "X_data = dataset_train.copy()\n",
    "X_data.drop(columns= ['true O3','true SO2','true NO2','true PM10','true PM2.5','true CO'],axis=1,inplace =True)\n",
    "X_data\n",
    "\n",
    "# 准备训练数据\n",
    "# 因变量：true 污染物\n",
    "X_zbl = X_data.values\n",
    "y_ybl = dataset_train['true O3'].values"
   ]
  },
  {
   "cell_type": "code",
   "execution_count": null,
   "metadata": {},
   "outputs": [],
   "source": [
    "X = X_zbl\n",
    "y = y_ybl\n",
    "print(len(X))\n",
    "print(len(y))"
   ]
  },
  {
   "cell_type": "code",
   "execution_count": null,
   "metadata": {},
   "outputs": [],
   "source": [
    "# 将数据分为训练集和测试集\n",
    "X_train, X_test, y_train, y_test = train_test_split(X,\n",
    "                                                    y,\n",
    "                                                    test_size=0.05,\n",
    "                                                    random_state=0)\n",
    "regr = RandomForestRegressor(n_estimators=2000,criterion='mse',max_features='auto',max_depth=None,min_samples_split=2,min_samples_leaf=1)\n",
    "# regr = RandomForestRegressor(random_state=100,\n",
    "#                              bootstrap=True,\n",
    "#                              max_depth=2,\n",
    "#                              max_features=2,\n",
    "#                              min_samples_leaf=3,\n",
    "#                              min_samples_split=5,\n",
    "#                              n_estimators=3)\n",
    "pipe = Pipeline([('scaler', StandardScaler()), ('reduce_dim', PCA()),\n",
    "                 ('regressor', regr)])\n",
    "pipe.fit(X_train, y_train)"
   ]
  },
  {
   "cell_type": "code",
   "execution_count": null,
   "metadata": {},
   "outputs": [],
   "source": [
    "dataset_validition.drop(columns=['地点','模型运行日期','预测时间','近3天实测时间'],axis=1,inplace = True)\n",
    "\n",
    "validtion_data = dataset_validition.copy()\n",
    "validtion_data.drop(columns= ['true O3','true SO2','true NO2','true PM10','true PM2.5','true CO'],axis=1,inplace =True)\n",
    "validtion_data\n",
    "\n",
    "# 准备验证数据\n",
    "Xvalidtion_zbl = validtion_data.values\n",
    "yvalidtion_ybl = dataset_validition['true O3'].values"
   ]
  },
  {
   "cell_type": "code",
   "execution_count": null,
   "metadata": {},
   "outputs": [],
   "source": [
    "# O3的预测值为yvalidition_O3\n",
    "yvalidition_O3 = pipe.predict(Xvalidtion_zbl)"
   ]
  },
  {
   "cell_type": "code",
   "execution_count": null,
   "metadata": {},
   "outputs": [],
   "source": []
  },
  {
   "cell_type": "code",
   "execution_count": null,
   "metadata": {},
   "outputs": [],
   "source": []
  },
  {
   "cell_type": "code",
   "execution_count": null,
   "metadata": {},
   "outputs": [],
   "source": []
  }
 ],
 "metadata": {
  "kernelspec": {
   "display_name": "Python 3",
   "language": "python",
   "name": "python3"
  },
  "language_info": {
   "codemirror_mode": {
    "name": "ipython",
    "version": 3
   },
   "file_extension": ".py",
   "mimetype": "text/x-python",
   "name": "python",
   "nbconvert_exporter": "python",
   "pygments_lexer": "ipython3",
   "version": "3.8.5"
  }
 },
 "nbformat": 4,
 "nbformat_minor": 4
}
